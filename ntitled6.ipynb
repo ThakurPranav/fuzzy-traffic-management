{
  "nbformat": 4,
  "nbformat_minor": 0,
  "metadata": {
    "colab": {
      "provenance": [],
      "authorship_tag": "ABX9TyP9S8hFITBqupCKPxNnWvM5",
      "include_colab_link": true
    },
    "kernelspec": {
      "name": "python3",
      "display_name": "Python 3"
    },
    "language_info": {
      "name": "python"
    }
  },
  "cells": [
    {
      "cell_type": "markdown",
      "metadata": {
        "id": "view-in-github",
        "colab_type": "text"
      },
      "source": [
        "<a href=\"https://colab.research.google.com/github/ThakurPranav/fuzzy-traffic-management/blob/main/ntitled6.ipynb\" target=\"_parent\"><img src=\"https://colab.research.google.com/assets/colab-badge.svg\" alt=\"Open In Colab\"/></a>"
      ]
    },
    {
      "cell_type": "code",
      "execution_count": null,
      "metadata": {
        "colab": {
          "base_uri": "https://localhost:8080/",
          "height": 385
        },
        "id": "F-jpHLzauK3v",
        "outputId": "8892e5b4-2f2d-4c20-cd02-c7a7344fd89f"
      },
      "outputs": [
        {
          "output_type": "error",
          "ename": "ModuleNotFoundError",
          "evalue": "No module named 'skfuzzy'",
          "traceback": [
            "\u001b[0;31m---------------------------------------------------------------------------\u001b[0m",
            "\u001b[0;31mModuleNotFoundError\u001b[0m                       Traceback (most recent call last)",
            "\u001b[0;32m<ipython-input-1-7fc609e67ec1>\u001b[0m in \u001b[0;36m<cell line: 0>\u001b[0;34m()\u001b[0m\n\u001b[1;32m      1\u001b[0m \u001b[0;32mimport\u001b[0m \u001b[0mnumpy\u001b[0m \u001b[0;32mas\u001b[0m \u001b[0mnp\u001b[0m\u001b[0;34m\u001b[0m\u001b[0;34m\u001b[0m\u001b[0m\n\u001b[0;32m----> 2\u001b[0;31m \u001b[0;32mimport\u001b[0m \u001b[0mskfuzzy\u001b[0m \u001b[0;32mas\u001b[0m \u001b[0mfuzz\u001b[0m\u001b[0;34m\u001b[0m\u001b[0;34m\u001b[0m\u001b[0m\n\u001b[0m\u001b[1;32m      3\u001b[0m \u001b[0;32mfrom\u001b[0m \u001b[0mskfuzzy\u001b[0m \u001b[0;32mimport\u001b[0m \u001b[0mcontrol\u001b[0m \u001b[0;32mas\u001b[0m \u001b[0mctrl\u001b[0m\u001b[0;34m\u001b[0m\u001b[0;34m\u001b[0m\u001b[0m\n\u001b[1;32m      4\u001b[0m \u001b[0;32mimport\u001b[0m \u001b[0mmatplotlib\u001b[0m\u001b[0;34m.\u001b[0m\u001b[0mpyplot\u001b[0m \u001b[0;32mas\u001b[0m \u001b[0mplt\u001b[0m\u001b[0;34m\u001b[0m\u001b[0;34m\u001b[0m\u001b[0m\n\u001b[1;32m      5\u001b[0m \u001b[0;32mimport\u001b[0m \u001b[0mrandom\u001b[0m\u001b[0;34m\u001b[0m\u001b[0;34m\u001b[0m\u001b[0m\n",
            "\u001b[0;31mModuleNotFoundError\u001b[0m: No module named 'skfuzzy'",
            "",
            "\u001b[0;31m---------------------------------------------------------------------------\u001b[0;32m\nNOTE: If your import is failing due to a missing package, you can\nmanually install dependencies using either !pip or !apt.\n\nTo view examples of installing some common dependencies, click the\n\"Open Examples\" button below.\n\u001b[0;31m---------------------------------------------------------------------------\u001b[0m\n"
          ],
          "errorDetails": {
            "actions": [
              {
                "action": "open_url",
                "actionText": "Open Examples",
                "url": "/notebooks/snippets/importing_libraries.ipynb"
              }
            ]
          }
        }
      ],
      "source": [
        "import numpy as np\n",
        "import skfuzzy as fuzz\n",
        "from skfuzzy import control as ctrl\n",
        "import matplotlib.pyplot as plt\n",
        "import random\n",
        "\n",
        "queue_length = ctrl.Antecedent(np.arange(0, 101, 1), 'queue_length')\n",
        "waiting_time = ctrl.Antecedent(np.arange(0, 301, 1), 'waiting_time')\n",
        "green_time = ctrl.Consequent(np.arange(10, 91, 1), 'green_time')\n",
        "\n",
        "queue_length['short'] = fuzz.trimf(queue_length.universe, [0, 0, 40])\n",
        "queue_length['medium'] = fuzz.trimf(queue_length.universe, [20, 50, 80])\n",
        "queue_length['long'] = fuzz.trimf(queue_length.universe, [60, 100, 100])\n",
        "\n",
        "waiting_time['low'] = fuzz.trimf(waiting_time.universe, [0, 0, 100])\n",
        "waiting_time['medium'] = fuzz.trimf(waiting_time.universe, [50, 150, 250])\n",
        "waiting_time['high'] = fuzz.trimf(waiting_time.universe, [200, 300, 300])\n",
        "\n",
        "green_time['short'] = fuzz.trimf(green_time.universe, [10, 20, 30])\n",
        "green_time['medium'] = fuzz.trimf(green_time.universe, [30, 50, 70])\n",
        "green_time['long'] = fuzz.trimf(green_time.universe, [60, 80, 90])\n",
        "\n",
        "rule1 = ctrl.Rule(queue_length['long'] & waiting_time['high'], green_time['long'])\n",
        "rule2 = ctrl.Rule(queue_length['medium'] & waiting_time['medium'], green_time['medium'])\n",
        "rule3 = ctrl.Rule(queue_length['short'] & waiting_time['low'], green_time['short'])\n",
        "\n",
        "green_ctrl = ctrl.ControlSystem([rule1, rule2, rule3])\n",
        "green_simulator = ctrl.ControlSystemSimulation(green_ctrl)\n",
        "\n",
        "np.random.seed(0)\n",
        "X = np.random.rand(100, 4)\n",
        "y = np.random.rand(100) * 100\n",
        "\n",
        "def sigmoid(x):\n",
        "    return 1 / (1 + np.exp(-x))\n",
        "\n",
        "def feedforward(X, weights):\n",
        "    w1, b1, w2, b2 = weights\n",
        "    hidden = sigmoid(np.dot(X, w1) + b1)\n",
        "    output = np.dot(hidden, w2) + b2\n",
        "    return output\n",
        "\n",
        "def create_weights():\n",
        "    w1 = np.random.randn(4, 6)\n",
        "    b1 = np.random.randn(6)\n",
        "    w2 = np.random.randn(6, 1)\n",
        "    b2 = np.random.randn(1)\n",
        "    return [w1, b1, w2, b2]\n",
        "\n",
        "def flatten(weights):\n",
        "    return np.concatenate([w.flatten() for w in weights])\n",
        "\n",
        "def unflatten(flat_vector):\n",
        "    w1 = flat_vector[:24].reshape(4, 6)\n",
        "    b1 = flat_vector[24:30]\n",
        "    w2 = flat_vector[30:36].reshape(6, 1)\n",
        "    b2 = flat_vector[36:37]\n",
        "    return [w1, b1, w2, b2]\n",
        "\n",
        "def fitness(chromosome):\n",
        "    weights = unflatten(chromosome)\n",
        "    preds = feedforward(X, weights).flatten()\n",
        "    return -np.mean((preds - y)**2)\n",
        "\n",
        "def crossover(p1, p2):\n",
        "    alpha = 0.5\n",
        "    return alpha * p1 + (1 - alpha) * p2\n",
        "\n",
        "def mutate(chrom, mutation_rate=0.1):\n",
        "    for i in range(len(chrom)):\n",
        "        if np.random.rand() < mutation_rate:\n",
        "            chrom[i] += np.random.normal(0, 0.1)\n",
        "    return chrom\n",
        "\n",
        "population_size = 30\n",
        "generations = 50\n",
        "pop = [flatten(create_weights()) for _ in range(population_size)]\n",
        "\n",
        "for gen in range(generations):\n",
        "    scored = [(chrom, fitness(chrom)) for chrom in pop]\n",
        "    scored.sort(key=lambda x: x[1], reverse=True)\n",
        "    pop = [x[0] for x in scored[:10]]\n",
        "\n",
        "    while len(pop) < population_size:\n",
        "        p1, p2 = random.sample(pop[:5], 2)\n",
        "        child = crossover(p1, p2)\n",
        "        child = mutate(child)\n",
        "        pop.append(child)\n",
        "\n",
        "    print(f\"Generation {gen}, Best Fitness: {-scored[0][1]:.4f}\")\n",
        "\n",
        "best_weights = unflatten(pop[0])\n",
        "final_preds = feedforward(X, best_weights).flatten()\n",
        "\n",
        "plt.plot(y, label='Actual')\n",
        "plt.plot(final_preds, label='Predicted')\n",
        "plt.legend()\n",
        "plt.title('Traffic Popularity Prediction')\n",
        "plt.xlabel('Samples')\n",
        "plt.ylabel('Popularity Score')\n",
        "plt.grid(True)\n",
        "plt.show()\n"
      ]
    }
  ]
}